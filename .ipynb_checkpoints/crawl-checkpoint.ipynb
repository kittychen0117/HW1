{
 "cells": [
  {
   "cell_type": "code",
   "execution_count": null,
   "metadata": {
    "collapsed": false,
    "deletable": true,
    "editable": true
   },
   "outputs": [
    {
     "name": "stdout",
     "output_type": "stream",
     "text": [
      "http://www.sectorspdr.com/sectorspdr/sector/xlv\n",
      "http://us.ishares.com/product_info/fund/overview/IYH.htm?qt=IYH\n",
      "http://us.ishares.com/product_info/fund/overview/IBB.htm?qt=IBB\n",
      "http://us.ishares.com/product_info/fund/overview/IXJ.htm?qt=IXJ\n",
      "https://personal.vanguard.com/us/funds/snapshot?FundId=0956&FundIntExt=INT\n",
      "http://invescopowershares.com/products/overview.aspx?ticker=PJP\n",
      "http://invescopowershares.com/products/overview.aspx?ticker=PBE\n",
      "https://www.spdrs.com/product/fund.seam?ticker=XBI\n",
      "http://us.ishares.com/product_info/fund/overview/IHI.htm?qt=IHI\n",
      "http://us.ishares.com/product_info/fund/overview/IHF.htm?qt=IHF\n"
     ]
    }
   ],
   "source": [
    "import requests\n",
    "import csv\n",
    "import urllib\n",
    "from bs4 import BeautifulSoup\n",
    "\n",
    "### read file1\n",
    "c1 = open(\"Healthcare Equity ETF List (49).csv\", \"r\")\n",
    "reader = csv.reader(c1)\n",
    "for line in reader:\n",
    "    #print (line[0])\n",
    "    if line[0]!='Symbol':\n",
    "        ### get url\n",
    "        url = \"https://etfdb.com/etf/{}/\".format(line[0])\n",
    "        #print (url)\n",
    "        r = requests.get(url)\n",
    "        r.encoding = 'utf8'\n",
    "        soup = BeautifulSoup(r.text, 'html.parser')\n",
    "        \n",
    "        ### get homepage's link\n",
    "        for link in soup.find_all('a', string=\"Home page\"):\n",
    "            home = link.get('href')\n",
    "            re = requests.get(home)\n",
    "            re.encoding = 'utf8'\n",
    "            print (home)\n",
    "            break\n",
    "        soup = BeautifulSoup(re.text, 'html.parser')\n",
    "        \n",
    "c1.close()\n",
    "\n",
    "c2 = open(\"Utilities Equity ETF List (24).csv\", \"r\") ## read file2\n",
    "reader = csv.reader(c2)\n",
    "for line in reader:\n",
    "    print (line[0])\n",
    "    url = \"https://etfdb.com/etfs/{}/\".format(line[0]) ## get url\n",
    "    page = requests.get(url)\n",
    "c2.close()"
   ]
  },
  {
   "cell_type": "code",
   "execution_count": null,
   "metadata": {
    "collapsed": true,
    "deletable": true,
    "editable": true
   },
   "outputs": [],
   "source": []
  }
 ],
 "metadata": {
  "kernelspec": {
   "display_name": "Python 3",
   "language": "python",
   "name": "python3"
  },
  "language_info": {
   "codemirror_mode": {
    "name": "ipython",
    "version": 3
   },
   "file_extension": ".py",
   "mimetype": "text/x-python",
   "name": "python",
   "nbconvert_exporter": "python",
   "pygments_lexer": "ipython3",
   "version": "3.5.2"
  }
 },
 "nbformat": 4,
 "nbformat_minor": 2
}
